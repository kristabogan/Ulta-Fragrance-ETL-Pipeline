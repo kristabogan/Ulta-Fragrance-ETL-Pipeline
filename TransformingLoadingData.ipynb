{
	"metadata": {
		"kernelspec": {
			"name": "glue_pyspark",
			"display_name": "Glue PySpark",
			"language": "python"
		},
		"language_info": {
			"name": "Python_Glue_Session",
			"mimetype": "text/x-python",
			"codemirror_mode": {
				"name": "python",
				"version": 3
			},
			"pygments_lexer": "python3",
			"file_extension": ".py"
		}
	},
	"nbformat_minor": 4,
	"nbformat": 4,
	"cells": [
		{
			"cell_type": "code",
			"source": "%idle_timeout 2880\n%glue_version 5.0\n%worker_type G.1X\n%number_of_workers 5\n\nimport sys\nfrom awsglue.transforms import *\nfrom awsglue.utils import getResolvedOptions\nfrom pyspark.context import SparkContext\nfrom awsglue.context import GlueContext\nfrom awsglue.job import Job\nfrom pyspark.sql import functions as F\nfrom awsglue.dynamicframe import DynamicFrame\nfrom pyspark.sql import SparkSession\n\nsc = SparkContext.getOrCreate()\nglueContext = GlueContext(sc)\nspark = glueContext.spark_session\njob = Job(glueContext)",
			"metadata": {
				"trusted": true,
				"editable": true
			},
			"execution_count": 10,
			"outputs": [
				{
					"name": "stderr",
					"text": "You are already connected to a glueetl session 8c58be73-4235-4d50-acff-b48a756154e1.\n\nNo change will be made to the current session that is set as glueetl. The session configuration change will apply to newly created sessions.\n",
					"output_type": "stream"
				},
				{
					"name": "stdout",
					"text": "Current idle_timeout is 2880 minutes.\nidle_timeout has been set to 2880 minutes.\n",
					"output_type": "stream"
				},
				{
					"name": "stderr",
					"text": "You are already connected to a glueetl session 8c58be73-4235-4d50-acff-b48a756154e1.\n\nNo change will be made to the current session that is set as glueetl. The session configuration change will apply to newly created sessions.\n",
					"output_type": "stream"
				},
				{
					"name": "stdout",
					"text": "Setting Glue version to: 5.0\n",
					"output_type": "stream"
				},
				{
					"name": "stderr",
					"text": "You are already connected to a glueetl session 8c58be73-4235-4d50-acff-b48a756154e1.\n\nNo change will be made to the current session that is set as glueetl. The session configuration change will apply to newly created sessions.\n",
					"output_type": "stream"
				},
				{
					"name": "stdout",
					"text": "Previous worker type: G.1X\nSetting new worker type to: G.1X\n",
					"output_type": "stream"
				},
				{
					"name": "stderr",
					"text": "You are already connected to a glueetl session 8c58be73-4235-4d50-acff-b48a756154e1.\n\nNo change will be made to the current session that is set as glueetl. The session configuration change will apply to newly created sessions.\n",
					"output_type": "stream"
				},
				{
					"name": "stdout",
					"text": "Previous number of workers: 5\nSetting new number of workers to: 5\n\n",
					"output_type": "stream"
				}
			]
		},
		{
			"cell_type": "code",
			"source": "glueContext = GlueContext(SparkContext.getOrCreate())\n\n# Access the existing SparkSession\nspark = glueContext.spark_session\n\n# Define the S3 path where your data is stored\ns3_path = \"s3://my-data-source-bucket/ulta_perfume_data.csv\"\n\n# Load data from S3 as a Spark DataFrame\ndf = spark.read.csv(s3_path, header=True, inferSchema=True)\n\n# Show the schema of the DataFrame\ndf.printSchema()",
			"metadata": {
				"trusted": true,
				"editable": true
			},
			"execution_count": 12,
			"outputs": [
				{
					"name": "stdout",
					"text": "root\n |-- Product Name: string (nullable = true)\n |-- Brand: string (nullable = true)\n |-- Reviews: string (nullable = true)\n",
					"output_type": "stream"
				}
			]
		},
		{
			"cell_type": "code",
			"source": "from pyspark.sql.functions import regexp_extract, col\n\n# Use regexp_extract to extract the rating and number of reviews\ndf = df.withColumn(\"Rating\", regexp_extract(col(\"Reviews\"), r'(\\d+\\.\\d) out of 5 stars', 1)) \\\n       .withColumn(\"Number of Reviews\", regexp_extract(col(\"Reviews\"), r'; (\\d+) reviews', 1).cast(\"int\"))\n\n# Drop the original 'Reviews' column\ndf = df.drop(\"Reviews\")\n\n# Show the DataFrame\ndf.show(truncate=False)",
			"metadata": {
				"trusted": true,
				"editable": true
			},
			"execution_count": 15,
			"outputs": [
				{
					"name": "stdout",
					"text": "+---------------------------------------+-----------------------+------+-----------------+\n|Product Name                           |Brand                  |Rating|Number of Reviews|\n+---------------------------------------+-----------------------+------+-----------------+\n|Eilish Eau de Parfum                   |Billie Eilish          |4.5   |3431             |\n|COCO MADEMOISELLE Eau de Parfum Spray  |CHANEL                 |4.5   |362              |\n|Donna Born In Roma Eau de Parfum       |Valentino              |4.8   |6034             |\n|Cloud Eau de Parfum                    |Ariana Grande          |4.3   |2772             |\n|Miss Dior Eau de Parfum                |Dior                   |4.6   |9704             |\n|Born in Roma Donna Perfume Gift Set    |Valentino              |4.8   |6034             |\n|Her Eau de Parfum                      |Burberry               |4.5   |5046             |\n|CHANCE EAU TENDRE Eau de Parfum Spray  |CHANEL                 |4.4   |268              |\n|Burberry Goddess Eau de Parfum         |Burberry               |4.7   |1382             |\n|Good Girl Blush Eau de Parfum          |Carolina Herrera       |4.5   |448              |\n|MOD Vanilla Eau de Parfum              |Ariana Grande          |4.3   |776              |\n|Eilish No. 2 Eau de Parfum             |Billie Eilish          |      |831              |\n|CHANCE EAU TENDRE Eau de Toilette Spray|CHANEL                 |4.8   |122              |\n|Libre Eau de Parfum                    |Yves Saint Laurent     |4.6   |5164             |\n|Cosmic Kylie Jenner Eau de Parfum      |KYLIE JENNER FRAGRANCES|4.3   |2795             |\n|Sublime by Tory Burch Eau de Parfum    |Tory Burch             |4.4   |284              |\n|Her Elixir de Parfum                   |Burberry               |4.6   |2485             |\n|Paradoxe Eau de Parfum                 |Prada                  |4.7   |2256             |\n|Black Opium Eau de Parfum              |Yves Saint Laurent     |4.7   |7499             |\n|Good Girl Eau de Parfum                |Carolina Herrera       |4.6   |1980             |\n+---------------------------------------+-----------------------+------+-----------------+\nonly showing top 20 rows\n",
					"output_type": "stream"
				}
			]
		},
		{
			"cell_type": "code",
			"source": "# Filter out rows where Rating is NULL or empty\ndf_clean = df.filter(df['Rating'].isNotNull() & (df['Rating'] != ''))\n\n# Sort by Rating and number of Reviews in descending/ascending order and show the top 10\ntop_10_by_rating = df_clean.orderBy(F.col(\"Rating\"), ascending=False).limit(10)\nbottom_10_by_rating = df_clean.orderBy(F.col(\"Rating\"), ascending=True).limit(10)\ntop_10_by_reviews = df_clean.orderBy(F.col(\"Number of Reviews\"), ascending=False).limit(10)\nbottom_10_by_reviews = df_clean.orderBy(F.col(\"Number of Reviews\"), ascending=True).limit(10)\n\n# Show the results\nprint(\"Top 10 Perfumes Based on Rating (Ignoring Empty Ratings):\")\ntop_10_by_rating.show(truncate=False)\n\nprint(\"Bottom 10 Perfumes Based on Rating (Ignoring Empty Ratings):\")\nbottom_10_by_rating.show(truncate=False)\n\nprint(\"Top 10 Perfumes Based on Number of Reviews (Ignoring Empty Ratings):\")\ntop_10_by_reviews.show(truncate=False)\n\nprint(\"Bottom 10 Perfumes Based on Number of Reviews (Ignoring Empty Ratings):\")\nbottom_10_by_reviews.show(truncate=False)\n",
			"metadata": {
				"trusted": true,
				"tags": []
			},
			"execution_count": 16,
			"outputs": [
				{
					"name": "stdout",
					"text": "Top 10 Perfumes Based on Rating (Ignoring Empty Ratings):\n+-------------------------------------------+------------------+------+-----------------+\n|Product Name                               |Brand             |Rating|Number of Reviews|\n+-------------------------------------------+------------------+------+-----------------+\n|Wild Poppy Eau de Parfum                   |NEST New York     |4.9   |68               |\n|J'adore Eau Lumière Eau de Toilette        |Dior              |4.8   |100              |\n|Pleasures Eau de Parfum Perfume Spray      |Estée Lauder      |4.8   |699              |\n|Mini Flowerbomb Perfume Set                |Viktor&Rolf       |4.8   |128              |\n|Donna Born In Roma Eau de Parfum           |Valentino         |4.8   |6034             |\n|Libre Flower & Flames Eau de Parfum Florale|Yves Saint Laurent|4.8   |1762             |\n|Libre Eau de Parfum Intense                |Yves Saint Laurent|4.8   |1018             |\n|Bright Crystal Absolu Eau de Parfum        |Versace           |4.8   |178              |\n|Miss Dior Parfum                           |Dior              |4.8   |1650             |\n|Happy Heart Perfume Spray                  |Clinique          |4.8   |534              |\n+-------------------------------------------+------------------+------+-----------------+\n\nBottom 10 Perfumes Based on Rating (Ignoring Empty Ratings):\n+---------------------------------------------------------+------------------+------+-----------------+\n|Product Name                                             |Brand             |Rating|Number of Reviews|\n+---------------------------------------------------------+------------------+------+-----------------+\n|Island Vanilla Spray Perfume                             |Pacifica          |2.1   |78               |\n|Trio Travel Gift Set                                     |Orebella          |2.5   |10               |\n|Viva La Juicy Mini + Gold Couture Mini 2 Piece Set       |Juicy Couture     |2.8   |4                |\n|GABRIELLE CHANEL Parfum Spray                            |CHANEL            |2.8   |5                |\n|Mini Alien Perfume Set                                   |MUGLER            |3.2   |10               |\n|Libre Eau de Parfum Mini Duo Set                         |Yves Saint Laurent|3.2   |6                |\n|White Musk Fragrance Oil                                 |Nemat             |3.2   |19               |\n|Giorgio Armani Fragrance Must-Haves 2 Piece Mini Gift Set|ARMANI            |3.3   |26               |\n|Golden Glaze Eau de Parfum                               |Truly             |3.3   |4                |\n|VANILLA MILK Eau de Parfum Mini                          |Ellis Brooklyn    |3.3   |9                |\n+---------------------------------------------------------+------------------+------+-----------------+\n\nTop 10 Perfumes Based on Number of Reviews (Ignoring Empty Ratings):\n+------------------------------------------------------------------+----------+------+-----------------+\n|Product Name                                                      |Brand     |Rating|Number of Reviews|\n+------------------------------------------------------------------+----------+------+-----------------+\n|Fresh Cream Warm Cashmere Eau de Toilette                         |Philosophy|4.6   |15794            |\n|Fresh Cream Warm Cashmere Eau de Toilette 2-Piece Holiday Gift Set|Philosophy|4.6   |15794            |\n|Amazing Grace Eau de Parfum                                       |Philosophy|4.6   |15794            |\n|Amazing Grace Eau de Toilette                                     |Philosophy|4.6   |15794            |\n|Amazing Grace and Fresh Cream Warm Cashmere 2-Piece Mini Gift Set |Philosophy|4.6   |15794            |\n|Fresh Cream Eau de Toilette                                       |Philosophy|4.6   |15794            |\n|Amazing Grace Eau de Toilette 3-Piece Mini Holiday Gift Set       |Philosophy|4.6   |15794            |\n|Radiant Grace Eau de Parfum                                       |Philosophy|4.6   |15794            |\n|Amazing Grace Eau de Toilette 3-Piece Holiday Gift Set            |Philosophy|4.6   |15794            |\n|La Vie Est Belle Eau de Parfum                                    |Lancôme   |4.7   |11415            |\n+------------------------------------------------------------------+----------+------+-----------------+\n\nBottom 10 Perfumes Based on Number of Reviews (Ignoring Empty Ratings):\n+-------------------------------------------------------+-------------+------+-----------------+\n|Product Name                                           |Brand        |Rating|Number of Reviews|\n+-------------------------------------------------------+-------------+------+-----------------+\n|Cleopatra Olio Sublime Profumato - Scented Dry Body Oil|TOCCA        |3.7   |3                |\n|Sun Saint Eau de Parfum                                |Pinrose      |4.7   |3                |\n|Viva La Juicy Mini + Gold Couture Mini 2 Piece Set     |Juicy Couture|2.8   |4                |\n|Golden Glaze Eau de Parfum                             |Truly        |3.3   |4                |\n|A Whole Lotta Happy Fragrance Set                      |Clinique     |4.2   |5                |\n|GABRIELLE CHANEL Parfum Spray                          |CHANEL       |2.8   |5                |\n|Dolce Blue Jasmine Eau de Parfum 2-Pc Gift Set         |Dolce&Gabbana|4.4   |5                |\n|Happy in Paradise Eau de Parfum                        |Clinique     |4.2   |5                |\n|Devotion Eau de Parfum 2-Pc Gift Set                   |Dolce&Gabbana|3.6   |5                |\n|Luxury Fragrance Wardrobe                              |TOCCA        |3.5   |6                |\n+-------------------------------------------------------+-------------+------+-----------------+\n",
					"output_type": "stream"
				}
			]
		},
		{
			"cell_type": "code",
			"source": "# Calculate the weighted rating (rating * number of reviews) for each row\ndf_with_weights = df.withColumn(\n    \"Weighted Rating\", \n    F.col(\"Rating\") * F.col(\"Number of Reviews\")\n)\n\n# Group by Brand and calculate the total number of reviews and the weighted sum of ratings\nbrand_weighted_avg_df = df_with_weights.groupBy(\"Brand\").agg(\n    F.sum(\"Weighted Rating\").alias(\"Total Weighted Rating\"),  # Total weighted rating for each brand\n    F.sum(\"Number of Reviews\").alias(\"Total Number of Reviews\")  # Total reviews for each brand\n)\n\n# Calculate the weighted average rating\nbrand_weighted_avg_df = brand_weighted_avg_df.withColumn(\n    \"Weighted Average Rating\", \n    F.col(\"Total Weighted Rating\") / F.col(\"Total Number of Reviews\")\n)\n\n# Sort results\ntop_10_df = brand_weighted_avg_df.orderBy(F.col(\"Weighted Average Rating\").desc()).limit(10)\nbottom_10_df = brand_weighted_avg_df.orderBy(F.col(\"Weighted Average Rating\").asc()).limit(10)\n\nprint(\"Top 10 Brands by Weighted Average Rating:\")\ntop_10_df.show(truncate=False)\n\nprint(\"Bottom 10 Brands by Weighted Average Rating:\")\nbottom_10_df.show(truncate=False)",
			"metadata": {
				"trusted": true,
				"editable": true
			},
			"execution_count": 17,
			"outputs": [
				{
					"name": "stdout",
					"text": "Top 10 Brands by Weighted Average Rating:\n+-----------------+---------------------+-----------------------+-----------------------+\n|Brand            |Total Weighted Rating|Total Number of Reviews|Weighted Average Rating|\n+-----------------+---------------------+-----------------------+-----------------------+\n|florence by mills|796.8                |166                    |4.8                    |\n|Guerlain         |662.4                |138                    |4.8                    |\n|Valentino        |82507.40000000001    |17298                  |4.769765290785062      |\n|Snif             |29643.899999999994   |6217                   |4.768200096509569      |\n|Sol de Janeiro   |23998.2              |5106                   |4.7                    |\n|RMS Beauty       |578.1                |123                    |4.7                    |\n|Prada            |80829.4              |17220                  |4.693925667828107      |\n|Lancôme          |103433.00000000001   |22111                  |4.677897878883814      |\n|ARMANI           |90842.70000000001    |19436                  |4.6739401111339784     |\n|Viktor&Rolf      |114844.59999999999   |24594                  |4.6696186061641045     |\n+-----------------+---------------------+-----------------------+-----------------------+\n\nBottom 10 Brands by Weighted Average Rating:\n+--------------+---------------------+-----------------------+-----------------------+\n|Brand         |Total Weighted Rating|Total Number of Reviews|Weighted Average Rating|\n+--------------+---------------------+-----------------------+-----------------------+\n|TOCCA         |95.80000000000001    |66                     |1.4515151515151516     |\n|Pacifica      |697.8000000000001    |212                    |3.2915094339622644     |\n|fresh         |336.29999999999995   |96                     |3.5031249999999994     |\n|Clinique      |15189.000000000002   |4264                   |3.562148217636023      |\n|Origins       |28.8                 |8                      |3.6                    |\n|Billie Eilish |15578.1              |4295                   |3.627031431897555      |\n|Ellis Brooklyn|1494.5               |406                    |3.6810344827586206     |\n|Ariana Grande |37619.3              |9928                   |3.7892123287671238     |\n|Nemat         |3652.5               |912                    |4.004934210526316      |\n|Chloé         |38670.4              |9626                   |4.017286515686682      |\n+--------------+---------------------+-----------------------+-----------------------+\n",
					"output_type": "stream"
				}
			]
		},
		{
			"cell_type": "code",
			"source": "# Convert Spark DataFrame to Glue DynamicFrame\ndynamic_frame = DynamicFrame.fromDF(df_with_weights, glueContext, \"dynamic_frame\")\n\n# Saving the Glue DynamicFrame to S3\noutput_s3_path = \"s3://my-data-source-bucket/your-output-folder/weightedratings.csv\"\n\nglueContext.write_dynamic_frame.from_options(\n    dynamic_frame,  # Your DynamicFrame\n    connection_type = \"s3\",\n    connection_options = {\n        \"path\": output_s3_path\n    },\n    format = \"csv\"  # Writing the data in CSV format\n)\n\nprint(f\"Data written to S3 path: {output_s3_path}\")\n",
			"metadata": {
				"trusted": true,
				"editable": true
			},
			"execution_count": 18,
			"outputs": [
				{
					"name": "stdout",
					"text": "Data written to S3 path: s3://my-data-source-bucket/your-output-folder/weightedratings.csv\n",
					"output_type": "stream"
				}
			]
		},
		{
			"cell_type": "code",
			"source": "",
			"metadata": {},
			"execution_count": null,
			"outputs": []
		}
	]
}