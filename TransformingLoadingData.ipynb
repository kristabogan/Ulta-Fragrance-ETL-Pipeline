{
	"metadata": {
		"kernelspec": {
			"name": "glue_pyspark",
			"display_name": "Glue PySpark",
			"language": "python"
		},
		"language_info": {
			"name": "Python_Glue_Session",
			"mimetype": "text/x-python",
			"codemirror_mode": {
				"name": "python",
				"version": 3
			},
			"pygments_lexer": "python3",
			"file_extension": ".py"
		}
	},
	"nbformat_minor": 4,
	"nbformat": 4,
	"cells": [
		{
			"cell_type": "code",
			"source": "%idle_timeout 2880\n%glue_version 5.0\n%worker_type G.1X\n%number_of_workers 5\n\nimport sys\nfrom awsglue.transforms import *\nfrom awsglue.utils import getResolvedOptions\nfrom pyspark.context import SparkContext\nfrom awsglue.context import GlueContext\nfrom awsglue.job import Job\nfrom pyspark.sql import functions as F\nfrom awsglue.dynamicframe import DynamicFrame\n\nsc = SparkContext.getOrCreate()\nglueContext = GlueContext(sc)\nspark = glueContext.spark_session\njob = Job(glueContext)",
			"metadata": {
				"trusted": true,
				"editable": true
			},
			"execution_count": 14,
			"outputs": [
				{
					"name": "stderr",
					"text": "You are already connected to a glueetl session 58613647-7693-480c-9931-028cb7b6fa42.\n\nNo change will be made to the current session that is set as glueetl. The session configuration change will apply to newly created sessions.\n",
					"output_type": "stream"
				},
				{
					"name": "stdout",
					"text": "Current idle_timeout is 2880 minutes.\nidle_timeout has been set to 2880 minutes.\n",
					"output_type": "stream"
				},
				{
					"name": "stderr",
					"text": "You are already connected to a glueetl session 58613647-7693-480c-9931-028cb7b6fa42.\n\nNo change will be made to the current session that is set as glueetl. The session configuration change will apply to newly created sessions.\n",
					"output_type": "stream"
				},
				{
					"name": "stdout",
					"text": "Setting Glue version to: 5.0\n",
					"output_type": "stream"
				},
				{
					"name": "stderr",
					"text": "You are already connected to a glueetl session 58613647-7693-480c-9931-028cb7b6fa42.\n\nNo change will be made to the current session that is set as glueetl. The session configuration change will apply to newly created sessions.\n",
					"output_type": "stream"
				},
				{
					"name": "stdout",
					"text": "Previous worker type: G.1X\nSetting new worker type to: G.1X\n",
					"output_type": "stream"
				},
				{
					"name": "stderr",
					"text": "You are already connected to a glueetl session 58613647-7693-480c-9931-028cb7b6fa42.\n\nNo change will be made to the current session that is set as glueetl. The session configuration change will apply to newly created sessions.\n",
					"output_type": "stream"
				},
				{
					"name": "stdout",
					"text": "Previous number of workers: 5\nSetting new number of workers to: 5\n\n",
					"output_type": "stream"
				}
			]
		},
		{
			"cell_type": "code",
			"source": "dyf = glueContext.create_dynamic_frame.from_catalog(database='database_name', table_name='table_name')\ndyf.printSchema()",
			"metadata": {
				"trusted": true,
				"editable": true
			},
			"execution_count": 15,
			"outputs": [
				{
					"name": "stdout",
					"text": "+--------------------+--------------------+--------------------+\n|        Product Name|               Brand|             Reviews|\n+--------------------+--------------------+--------------------+\n|Eilish Eau de Parfum|       Billie Eilish|4.5 out of 5 star...|\n|COCO MADEMOISELLE...|              CHANEL|4.5 out of 5 star...|\n|Donna Born In Rom...|           Valentino|4.8 out of 5 star...|\n| Cloud Eau de Parfum|       Ariana Grande|4.3 out of 5 star...|\n|Miss Dior Eau de ...|                Dior|4.6 out of 5 star...|\n|Born in Roma Donn...|           Valentino|4.8 out of 5 star...|\n|   Her Eau de Parfum|            Burberry|4.5 out of 5 star...|\n|CHANCE EAU TENDRE...|              CHANEL|4.4 out of 5 star...|\n|Burberry Goddess ...|            Burberry|4.7 out of 5 star...|\n|Good Girl Blush E...|    Carolina Herrera|4.5 out of 5 star...|\n|MOD Vanilla Eau d...|       Ariana Grande|4.3 out of 5 star...|\n|Eilish No. 2 Eau ...|       Billie Eilish|4 out of 5 stars ...|\n|CHANCE EAU TENDRE...|              CHANEL|4.8 out of 5 star...|\n| Libre Eau de Parfum|  Yves Saint Laurent|4.6 out of 5 star...|\n|Cosmic Kylie Jenn...|KYLIE JENNER FRAG...|4.3 out of 5 star...|\n|Sublime by Tory B...|          Tory Burch|4.4 out of 5 star...|\n|Her Elixir de Parfum|            Burberry|4.6 out of 5 star...|\n|Paradoxe Eau de P...|               Prada|4.7 out of 5 star...|\n|Black Opium Eau d...|  Yves Saint Laurent|4.7 out of 5 star...|\n|Good Girl Eau de ...|    Carolina Herrera|4.6 out of 5 star...|\n+--------------------+--------------------+--------------------+\nonly showing top 20 rows\n",
					"output_type": "stream"
				}
			]
		},
		{
			"cell_type": "code",
			"source": "# Use regexp_extract to extract the rating and number of reviews\ndf = df.withColumn(\"Rating\", regexp_extract(col(\"Reviews\"), r'(\\d+\\.\\d) out of 5 stars', 1)) \\\n       .withColumn(\"Number of Reviews\", regexp_extract(col(\"Reviews\"), r'; (\\d+) reviews', 1).cast(\"int\"))\n\n# Drop the original 'Reviews' column\ndf = df.drop(\"Reviews\")\n\n# Show the DataFrame\ndf.show(truncate=False)",
			"metadata": {
				"trusted": true,
				"editable": true
			},
			"execution_count": 16,
			"outputs": [
				{
					"name": "stdout",
					"text": "+---------------------------------------+-----------------------+------+-----------------+\n|Product Name                           |Brand                  |Rating|Number of Reviews|\n+---------------------------------------+-----------------------+------+-----------------+\n|Eilish Eau de Parfum                   |Billie Eilish          |4.5   |3431             |\n|COCO MADEMOISELLE Eau de Parfum Spray  |CHANEL                 |4.5   |362              |\n|Donna Born In Roma Eau de Parfum       |Valentino              |4.8   |6034             |\n|Cloud Eau de Parfum                    |Ariana Grande          |4.3   |2772             |\n|Miss Dior Eau de Parfum                |Dior                   |4.6   |9704             |\n|Born in Roma Donna Perfume Gift Set    |Valentino              |4.8   |6034             |\n|Her Eau de Parfum                      |Burberry               |4.5   |5046             |\n|CHANCE EAU TENDRE Eau de Parfum Spray  |CHANEL                 |4.4   |268              |\n|Burberry Goddess Eau de Parfum         |Burberry               |4.7   |1382             |\n|Good Girl Blush Eau de Parfum          |Carolina Herrera       |4.5   |448              |\n|MOD Vanilla Eau de Parfum              |Ariana Grande          |4.3   |776              |\n|Eilish No. 2 Eau de Parfum             |Billie Eilish          |      |831              |\n|CHANCE EAU TENDRE Eau de Toilette Spray|CHANEL                 |4.8   |122              |\n|Libre Eau de Parfum                    |Yves Saint Laurent     |4.6   |5164             |\n|Cosmic Kylie Jenner Eau de Parfum      |KYLIE JENNER FRAGRANCES|4.3   |2795             |\n|Sublime by Tory Burch Eau de Parfum    |Tory Burch             |4.4   |284              |\n|Her Elixir de Parfum                   |Burberry               |4.6   |2485             |\n|Paradoxe Eau de Parfum                 |Prada                  |4.7   |2256             |\n|Black Opium Eau de Parfum              |Yves Saint Laurent     |4.7   |7499             |\n|Good Girl Eau de Parfum                |Carolina Herrera       |4.6   |1980             |\n+---------------------------------------+-----------------------+------+-----------------+\nonly showing top 20 rows\n",
					"output_type": "stream"
				}
			]
		},
		{
			"cell_type": "code",
			"source": "# Calculate the weighted rating for each product\ndf_with_weighted_rating = df.withColumn(\n    \"Weighted Rating\", \n    F.col(\"Rating\") * F.col(\"Number of Reviews\")\n)\n\n# Show the DataFrame with the new \"Weighted Rating\" column\ndf_with_weighted_rating.show(truncate=False)",
			"metadata": {
				"trusted": true,
				"tags": []
			},
			"execution_count": 21,
			"outputs": [
				{
					"name": "stdout",
					"text": "+---------------------------------------+-----------------------+------+-----------------+------------------+\n|Product Name                           |Brand                  |Rating|Number of Reviews|Weighted Rating   |\n+---------------------------------------+-----------------------+------+-----------------+------------------+\n|Eilish Eau de Parfum                   |Billie Eilish          |4.5   |3431             |15439.5           |\n|COCO MADEMOISELLE Eau de Parfum Spray  |CHANEL                 |4.5   |362              |1629.0            |\n|Donna Born In Roma Eau de Parfum       |Valentino              |4.8   |6034             |28963.2           |\n|Cloud Eau de Parfum                    |Ariana Grande          |4.3   |2772             |11919.6           |\n|Miss Dior Eau de Parfum                |Dior                   |4.6   |9704             |44638.399999999994|\n|Born in Roma Donna Perfume Gift Set    |Valentino              |4.8   |6034             |28963.2           |\n|Her Eau de Parfum                      |Burberry               |4.5   |5046             |22707.0           |\n|CHANCE EAU TENDRE Eau de Parfum Spray  |CHANEL                 |4.4   |268              |1179.2            |\n|Burberry Goddess Eau de Parfum         |Burberry               |4.7   |1382             |6495.400000000001 |\n|Good Girl Blush Eau de Parfum          |Carolina Herrera       |4.5   |448              |2016.0            |\n|MOD Vanilla Eau de Parfum              |Ariana Grande          |4.3   |776              |3336.7999999999997|\n|Eilish No. 2 Eau de Parfum             |Billie Eilish          |      |831              |NULL              |\n|CHANCE EAU TENDRE Eau de Toilette Spray|CHANEL                 |4.8   |122              |585.6             |\n|Libre Eau de Parfum                    |Yves Saint Laurent     |4.6   |5164             |23754.399999999998|\n|Cosmic Kylie Jenner Eau de Parfum      |KYLIE JENNER FRAGRANCES|4.3   |2795             |12018.5           |\n|Sublime by Tory Burch Eau de Parfum    |Tory Burch             |4.4   |284              |1249.6000000000001|\n|Her Elixir de Parfum                   |Burberry               |4.6   |2485             |11431.0           |\n|Paradoxe Eau de Parfum                 |Prada                  |4.7   |2256             |10603.2           |\n|Black Opium Eau de Parfum              |Yves Saint Laurent     |4.7   |7499             |35245.3           |\n|Good Girl Eau de Parfum                |Carolina Herrera       |4.6   |1980             |9108.0            |\n+---------------------------------------+-----------------------+------+-----------------+------------------+\nonly showing top 20 rows\n",
					"output_type": "stream"
				}
			]
		},
		{
			"cell_type": "code",
			"source": "# Filter out rows where Rating is NULL or empty\ndf_clean = df.filter(df['Rating'].isNotNull() & (df['Rating'] != ''))\n\n# Sort by Rating and number of Reviews in descending/ascending order and show the top 10\ntop_10_by_rating = df_clean.orderBy(F.col(\"Rating\"), ascending=False).limit(10)\nbottom_10_by_rating = df_clean.orderBy(F.col(\"Rating\"), ascending=True).limit(10)\ntop_10_by_reviews = df_clean.orderBy(F.col(\"Number of Reviews\"), ascending=False).limit(10)\nbottom_10_by_reviews = df_clean.orderBy(F.col(\"Number of Reviews\"), ascending=True).limit(10)\n\n# Show the results\nprint(\"Top 10 Perfumes Based on Rating (Ignoring Empty Ratings):\")\ntop_10_by_rating.show(truncate=False)\n\nprint(\"Bottom 10 Perfumes Based on Rating (Ignoring Empty Ratings):\")\nbottom_10_by_rating.show(truncate=False)\n\nprint(\"Top 10 Perfumes Based on Number of Reviews (Ignoring Empty Ratings):\")\ntop_10_by_reviews.show(truncate=False)\n\nprint(\"Bottom 10 Perfumes Based on Number of Reviews (Ignoring Empty Ratings):\")\nbottom_10_by_reviews.show(truncate=False)\n",
			"metadata": {
				"trusted": true,
				"tags": []
			},
			"execution_count": 29,
			"outputs": [
				{
					"name": "stdout",
					"text": "Top 10 Perfumes Based on Rating (Ignoring Empty Ratings):\n+-------------------------------------------+------------------+------+-----------------+\n|Product Name                               |Brand             |Rating|Number of Reviews|\n+-------------------------------------------+------------------+------+-----------------+\n|Wild Poppy Eau de Parfum                   |NEST New York     |4.9   |68               |\n|J'adore Eau Lumière Eau de Toilette        |Dior              |4.8   |100              |\n|Pleasures Eau de Parfum Perfume Spray      |Estée Lauder      |4.8   |699              |\n|Mini Flowerbomb Perfume Set                |Viktor&Rolf       |4.8   |128              |\n|Donna Born In Roma Eau de Parfum           |Valentino         |4.8   |6034             |\n|Libre Flower & Flames Eau de Parfum Florale|Yves Saint Laurent|4.8   |1762             |\n|Libre Eau de Parfum Intense                |Yves Saint Laurent|4.8   |1018             |\n|Bright Crystal Absolu Eau de Parfum        |Versace           |4.8   |178              |\n|Miss Dior Parfum                           |Dior              |4.8   |1650             |\n|Happy Heart Perfume Spray                  |Clinique          |4.8   |534              |\n+-------------------------------------------+------------------+------+-----------------+\n\nBottom 10 Perfumes Based on Rating (Ignoring Empty Ratings):\n+---------------------------------------------------------+------------------+------+-----------------+\n|Product Name                                             |Brand             |Rating|Number of Reviews|\n+---------------------------------------------------------+------------------+------+-----------------+\n|Island Vanilla Spray Perfume                             |Pacifica          |2.1   |78               |\n|Trio Travel Gift Set                                     |Orebella          |2.5   |10               |\n|Viva La Juicy Mini + Gold Couture Mini 2 Piece Set       |Juicy Couture     |2.8   |4                |\n|GABRIELLE CHANEL Parfum Spray                            |CHANEL            |2.8   |5                |\n|Mini Alien Perfume Set                                   |MUGLER            |3.2   |10               |\n|Libre Eau de Parfum Mini Duo Set                         |Yves Saint Laurent|3.2   |6                |\n|White Musk Fragrance Oil                                 |Nemat             |3.2   |19               |\n|Giorgio Armani Fragrance Must-Haves 2 Piece Mini Gift Set|ARMANI            |3.3   |26               |\n|Golden Glaze Eau de Parfum                               |Truly             |3.3   |4                |\n|VANILLA MILK Eau de Parfum Mini                          |Ellis Brooklyn    |3.3   |9                |\n+---------------------------------------------------------+------------------+------+-----------------+\n\nTop 10 Perfumes Based on Number of Reviews (Ignoring Empty Ratings):\n+------------------------------------------------------------------+----------+------+-----------------+\n|Product Name                                                      |Brand     |Rating|Number of Reviews|\n+------------------------------------------------------------------+----------+------+-----------------+\n|Fresh Cream Warm Cashmere Eau de Toilette                         |Philosophy|4.6   |15794            |\n|Fresh Cream Warm Cashmere Eau de Toilette 2-Piece Holiday Gift Set|Philosophy|4.6   |15794            |\n|Amazing Grace Eau de Parfum                                       |Philosophy|4.6   |15794            |\n|Amazing Grace Eau de Toilette                                     |Philosophy|4.6   |15794            |\n|Amazing Grace and Fresh Cream Warm Cashmere 2-Piece Mini Gift Set |Philosophy|4.6   |15794            |\n|Fresh Cream Eau de Toilette                                       |Philosophy|4.6   |15794            |\n|Amazing Grace Eau de Toilette 3-Piece Mini Holiday Gift Set       |Philosophy|4.6   |15794            |\n|Radiant Grace Eau de Parfum                                       |Philosophy|4.6   |15794            |\n|Amazing Grace Eau de Toilette 3-Piece Holiday Gift Set            |Philosophy|4.6   |15794            |\n|La Vie Est Belle Eau de Parfum                                    |Lancôme   |4.7   |11415            |\n+------------------------------------------------------------------+----------+------+-----------------+\n\nBottom 10 Perfumes Based on Number of Reviews (Ignoring Empty Ratings):\n+-------------------------------------------------------+-------------+------+-----------------+\n|Product Name                                           |Brand        |Rating|Number of Reviews|\n+-------------------------------------------------------+-------------+------+-----------------+\n|Cleopatra Olio Sublime Profumato - Scented Dry Body Oil|TOCCA        |3.7   |3                |\n|Sun Saint Eau de Parfum                                |Pinrose      |4.7   |3                |\n|Viva La Juicy Mini + Gold Couture Mini 2 Piece Set     |Juicy Couture|2.8   |4                |\n|Golden Glaze Eau de Parfum                             |Truly        |3.3   |4                |\n|A Whole Lotta Happy Fragrance Set                      |Clinique     |4.2   |5                |\n|GABRIELLE CHANEL Parfum Spray                          |CHANEL       |2.8   |5                |\n|Dolce Blue Jasmine Eau de Parfum 2-Pc Gift Set         |Dolce&Gabbana|4.4   |5                |\n|Happy in Paradise Eau de Parfum                        |Clinique     |4.2   |5                |\n|Devotion Eau de Parfum 2-Pc Gift Set                   |Dolce&Gabbana|3.6   |5                |\n|Luxury Fragrance Wardrobe                              |TOCCA        |3.5   |6                |\n+-------------------------------------------------------+-------------+------+-----------------+\n",
					"output_type": "stream"
				}
			]
		},
		{
			"cell_type": "code",
			"source": "# Calculate the weighted rating (rating * number of reviews) for each row\ndf_with_weights = df.withColumn(\n    \"Weighted Rating\", \n    F.col(\"Rating\") * F.col(\"Number of Reviews\")\n)\n\n# Group by Brand and calculate the total number of reviews and the weighted sum of ratings\nbrand_avg_reviews_df = df_with_weights.groupBy(\"Brand\").agg(\n    F.avg(\"Rating\").alias(\"Average Rating\"),  # Average rating for each brand\n    F.sum(\"Number of Reviews\").alias(\"Total Number of Reviews\")  # Total reviews for each brand\n)\n\n# Sort results\ntop_10_df = brand_avg_reviews_df.orderBy(F.col(\"Average Rating\").desc()).limit(10)\nbottom_10_df = brand_avg_reviews_df.orderBy(F.col(\"Average Rating\").asc()).limit(10)\n\nprint(\"Top 10 Brands by Average Rating:\")\ntop_10_df.show(truncate=False)\n\nprint(\"Bottom 10 Brands by Average Rating:\")\nbottom_10_df.show(truncate=False)\n",
			"metadata": {
				"trusted": true,
				"editable": true
			},
			"execution_count": 30,
			"outputs": [
				{
					"name": "stdout",
					"text": "Top 10 Brands by Average Rating:\n+-----------------+-----------------+-----------------------+\n|Brand            |Average Rating   |Total Number of Reviews|\n+-----------------+-----------------+-----------------------+\n|florence by mills|4.8              |166                    |\n|Guerlain         |4.8              |138                    |\n|Valentino        |4.733333333333333|17298                  |\n|Sol de Janeiro   |4.7              |5106                   |\n|DIME             |4.7              |15967                  |\n|RMS Beauty       |4.7              |123                    |\n|Donna Karan      |4.699999999999999|2137                   |\n|Prada            |4.675            |17220                  |\n|Snif             |4.673333333333333|6217                   |\n|Viktor&Rolf      |4.655555555555555|24594                  |\n+-----------------+-----------------+-----------------------+\n\nBottom 10 Brands by Average Rating:\n+-----------------+-----------------+-----------------------+\n|Brand            |Average Rating   |Total Number of Reviews|\n+-----------------+-----------------+-----------------------+\n|Origins          |3.6              |8                      |\n|Pacifica         |3.75             |212                    |\n|Truly            |4.0              |545                    |\n|Nemat            |4.011111111111111|912                    |\n|Orebella         |4.022222222222222|2392                   |\n|fresh            |4.05             |96                     |\n|Moschino         |4.050000000000001|439                    |\n|LE MONDE GOURMAND|4.075            |456                    |\n|TOCCA            |4.075            |66                     |\n|Clean            |4.2              |133                    |\n+-----------------+-----------------+-----------------------+\n",
					"output_type": "stream"
				}
			]
		},
		{
			"cell_type": "code",
			"source": "# Convert Spark DataFrame to Glue DynamicFrame\ndynamic_frame = DynamicFrame.fromDF(df_with_weights, glueContext, \"dynamic_frame\")\n\n# Saving the Glue DynamicFrame to S3\noutput_s3_path = \"s3://my-data-source-bucket/your-output-folder/weightedratings.csv\"\n\nglueContext.write_dynamic_frame.from_options(\n    dynamic_frame,  # Your DynamicFrame\n    connection_type = \"s3\",\n    connection_options = {\n        \"path\": output_s3_path\n    },\n    format = \"csv\"  # Writing the data in CSV format\n)\n\nprint(f\"Data written to S3 path: {output_s3_path}\")\n",
			"metadata": {
				"trusted": true,
				"editable": true
			},
			"execution_count": 35,
			"outputs": [
				{
					"name": "stdout",
					"text": "Data written to S3 path: s3://my-data-source-bucket/your-output-folder/weightedratings.csv\n",
					"output_type": "stream"
				}
			]
		}
	]
}